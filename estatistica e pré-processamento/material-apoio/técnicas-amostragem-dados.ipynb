{
 "cells": [
  {
   "cell_type": "markdown",
   "metadata": {
    "colab_type": "text",
    "id": "8Fvfh3VPLZ46"
   },
   "source": [
    "### Técnicas de Amostragem de Dados."
   ]
  },
  {
   "cell_type": "markdown",
   "metadata": {
    "colab_type": "text",
    "id": "qNBJk3sL4bT9"
   },
   "source": [
    "![alt text](https://minerandodados.com.br/wp-content/uploads/2020/05/probability-sampling-1.png)"
   ]
  },
  {
   "cell_type": "markdown",
   "metadata": {
    "colab_type": "text",
    "id": "fb4TGwwVLowj"
   },
   "source": [
    "### Amostragem Aleatória Simples"
   ]
  },
  {
   "cell_type": "markdown",
   "metadata": {
    "colab_type": "text",
    "id": "a1DgcOAqMX3U"
   },
   "source": [
    "Um determinado número de elementos é retirado da população de forma aleatória."
   ]
  },
  {
   "cell_type": "code",
   "execution_count": 1,
   "metadata": {
    "colab": {},
    "colab_type": "code",
    "id": "5I4LBIjeRmwa"
   },
   "outputs": [],
   "source": [
    "import pandas as pd"
   ]
  },
  {
   "cell_type": "markdown",
   "metadata": {
    "colab_type": "text",
    "id": "J0lgzkFAQT3c"
   },
   "source": [
    "Carregando a base de dados."
   ]
  },
  {
   "cell_type": "code",
   "execution_count": 3,
   "metadata": {
    "colab": {},
    "colab_type": "code",
    "id": "RmeJs1p2fFf4"
   },
   "outputs": [],
   "source": [
    "df = pd.read_csv(\"covid19.csv\")"
   ]
  },
  {
   "cell_type": "code",
   "execution_count": 4,
   "metadata": {
    "colab": {},
    "colab_type": "code",
    "id": "Gz2FIqJsfG7e"
   },
   "outputs": [
    {
     "name": "stdout",
     "output_type": "stream",
     "text": [
      "<class 'pandas.core.frame.DataFrame'>\n",
      "RangeIndex: 50982 entries, 0 to 50981\n",
      "Data columns (total 12 columns):\n",
      " #   Column              Non-Null Count  Dtype  \n",
      "---  ------              --------------  -----  \n",
      " 0   case_id             0 non-null      float64\n",
      " 1   provincial_case_id  50982 non-null  int64  \n",
      " 2   age                 50982 non-null  object \n",
      " 3   sex                 50982 non-null  object \n",
      " 4   health_region       50982 non-null  object \n",
      " 5   province            50982 non-null  object \n",
      " 6   country             50982 non-null  object \n",
      " 7   date_report         50982 non-null  object \n",
      " 8   report_week         50982 non-null  object \n",
      " 9   has_travel_history  1150 non-null   object \n",
      " 10  locally_acquired    574 non-null    object \n",
      " 11  case_source         50982 non-null  object \n",
      "dtypes: float64(1), int64(1), object(10)\n",
      "memory usage: 4.7+ MB\n"
     ]
    }
   ],
   "source": [
    "df.info()"
   ]
  },
  {
   "cell_type": "code",
   "execution_count": 12,
   "metadata": {
    "colab": {},
    "colab_type": "code",
    "id": "Ik94jNFrmThx"
   },
   "outputs": [
    {
     "data": {
      "text/html": [
       "<div>\n",
       "<style scoped>\n",
       "    .dataframe tbody tr th:only-of-type {\n",
       "        vertical-align: middle;\n",
       "    }\n",
       "\n",
       "    .dataframe tbody tr th {\n",
       "        vertical-align: top;\n",
       "    }\n",
       "\n",
       "    .dataframe thead th {\n",
       "        text-align: right;\n",
       "    }\n",
       "</style>\n",
       "<table border=\"1\" class=\"dataframe\">\n",
       "  <thead>\n",
       "    <tr style=\"text-align: right;\">\n",
       "      <th></th>\n",
       "      <th>case_id</th>\n",
       "      <th>provincial_case_id</th>\n",
       "      <th>age</th>\n",
       "      <th>sex</th>\n",
       "      <th>health_region</th>\n",
       "      <th>province</th>\n",
       "      <th>country</th>\n",
       "      <th>date_report</th>\n",
       "      <th>report_week</th>\n",
       "      <th>has_travel_history</th>\n",
       "      <th>locally_acquired</th>\n",
       "      <th>case_source</th>\n",
       "    </tr>\n",
       "  </thead>\n",
       "  <tbody>\n",
       "    <tr>\n",
       "      <th>0</th>\n",
       "      <td>NaN</td>\n",
       "      <td>1</td>\n",
       "      <td>50-59</td>\n",
       "      <td>Male</td>\n",
       "      <td>Toronto</td>\n",
       "      <td>Ontario</td>\n",
       "      <td>Canada</td>\n",
       "      <td>2020-01-25</td>\n",
       "      <td>2020-01-19</td>\n",
       "      <td>t</td>\n",
       "      <td>NaN</td>\n",
       "      <td>(1) https://news.ontario.ca/mohltc/en/2020/01/...</td>\n",
       "    </tr>\n",
       "    <tr>\n",
       "      <th>1</th>\n",
       "      <td>NaN</td>\n",
       "      <td>2</td>\n",
       "      <td>50-59</td>\n",
       "      <td>Female</td>\n",
       "      <td>Toronto</td>\n",
       "      <td>Ontario</td>\n",
       "      <td>Canada</td>\n",
       "      <td>2020-01-27</td>\n",
       "      <td>2020-01-26</td>\n",
       "      <td>t</td>\n",
       "      <td>NaN</td>\n",
       "      <td>(1) https://news.ontario.ca/mohltc/en/2020/01/...</td>\n",
       "    </tr>\n",
       "    <tr>\n",
       "      <th>2</th>\n",
       "      <td>NaN</td>\n",
       "      <td>1</td>\n",
       "      <td>40-49</td>\n",
       "      <td>Male</td>\n",
       "      <td>Vancouver Coastal</td>\n",
       "      <td>BC</td>\n",
       "      <td>Canada</td>\n",
       "      <td>2020-01-28</td>\n",
       "      <td>2020-01-26</td>\n",
       "      <td>t</td>\n",
       "      <td>NaN</td>\n",
       "      <td>https://news.gov.bc.ca/releases/2020HLTH0015-0...</td>\n",
       "    </tr>\n",
       "    <tr>\n",
       "      <th>3</th>\n",
       "      <td>NaN</td>\n",
       "      <td>3</td>\n",
       "      <td>20-29</td>\n",
       "      <td>Female</td>\n",
       "      <td>Middlesex-London</td>\n",
       "      <td>Ontario</td>\n",
       "      <td>Canada</td>\n",
       "      <td>2020-01-31</td>\n",
       "      <td>2020-01-26</td>\n",
       "      <td>t</td>\n",
       "      <td>NaN</td>\n",
       "      <td>(1) https://news.ontario.ca/mohltc/en/2020/01/...</td>\n",
       "    </tr>\n",
       "    <tr>\n",
       "      <th>4</th>\n",
       "      <td>NaN</td>\n",
       "      <td>2</td>\n",
       "      <td>50-59</td>\n",
       "      <td>Female</td>\n",
       "      <td>Vancouver Coastal</td>\n",
       "      <td>BC</td>\n",
       "      <td>Canada</td>\n",
       "      <td>2020-02-04</td>\n",
       "      <td>2020-02-02</td>\n",
       "      <td>f</td>\n",
       "      <td>Close Contact</td>\n",
       "      <td>https://news.gov.bc.ca/releases/2020HLTH0023-0...</td>\n",
       "    </tr>\n",
       "  </tbody>\n",
       "</table>\n",
       "</div>"
      ],
      "text/plain": [
       "   case_id  provincial_case_id    age     sex      health_region province  \\\n",
       "0      NaN                   1  50-59    Male            Toronto  Ontario   \n",
       "1      NaN                   2  50-59  Female            Toronto  Ontario   \n",
       "2      NaN                   1  40-49    Male  Vancouver Coastal       BC   \n",
       "3      NaN                   3  20-29  Female   Middlesex-London  Ontario   \n",
       "4      NaN                   2  50-59  Female  Vancouver Coastal       BC   \n",
       "\n",
       "  country date_report report_week has_travel_history locally_acquired  \\\n",
       "0  Canada  2020-01-25  2020-01-19                  t              NaN   \n",
       "1  Canada  2020-01-27  2020-01-26                  t              NaN   \n",
       "2  Canada  2020-01-28  2020-01-26                  t              NaN   \n",
       "3  Canada  2020-01-31  2020-01-26                  t              NaN   \n",
       "4  Canada  2020-02-04  2020-02-02                  f    Close Contact   \n",
       "\n",
       "                                         case_source  \n",
       "0  (1) https://news.ontario.ca/mohltc/en/2020/01/...  \n",
       "1  (1) https://news.ontario.ca/mohltc/en/2020/01/...  \n",
       "2  https://news.gov.bc.ca/releases/2020HLTH0015-0...  \n",
       "3  (1) https://news.ontario.ca/mohltc/en/2020/01/...  \n",
       "4  https://news.gov.bc.ca/releases/2020HLTH0023-0...  "
      ]
     },
     "execution_count": 12,
     "metadata": {},
     "output_type": "execute_result"
    }
   ],
   "source": [
    "df.head() "
   ]
  },
  {
   "cell_type": "markdown",
   "metadata": {
    "colab_type": "text",
    "id": "z-G07fdhSXF5"
   },
   "source": [
    "Criando uma amostra com apenas 1000 registros a partir do conjunto de dados.\n"
   ]
  },
  {
   "cell_type": "code",
   "execution_count": 6,
   "metadata": {
    "colab": {},
    "colab_type": "code",
    "id": "BFs7XrThmdKC"
   },
   "outputs": [],
   "source": [
    "df_sample = df.sample(n=1000)"
   ]
  },
  {
   "cell_type": "code",
   "execution_count": 7,
   "metadata": {
    "colab": {},
    "colab_type": "code",
    "id": "GQ5gvUeWmra3"
   },
   "outputs": [
    {
     "name": "stdout",
     "output_type": "stream",
     "text": [
      "<class 'pandas.core.frame.DataFrame'>\n",
      "Int64Index: 1000 entries, 12399 to 10769\n",
      "Data columns (total 12 columns):\n",
      " #   Column              Non-Null Count  Dtype  \n",
      "---  ------              --------------  -----  \n",
      " 0   case_id             0 non-null      float64\n",
      " 1   provincial_case_id  1000 non-null   int64  \n",
      " 2   age                 1000 non-null   object \n",
      " 3   sex                 1000 non-null   object \n",
      " 4   health_region       1000 non-null   object \n",
      " 5   province            1000 non-null   object \n",
      " 6   country             1000 non-null   object \n",
      " 7   date_report         1000 non-null   object \n",
      " 8   report_week         1000 non-null   object \n",
      " 9   has_travel_history  15 non-null     object \n",
      " 10  locally_acquired    9 non-null      object \n",
      " 11  case_source         1000 non-null   object \n",
      "dtypes: float64(1), int64(1), object(10)\n",
      "memory usage: 101.6+ KB\n"
     ]
    }
   ],
   "source": [
    "df_sample.info()"
   ]
  },
  {
   "cell_type": "markdown",
   "metadata": {
    "colab_type": "text",
    "id": "vsFaOx8DSpd5"
   },
   "source": [
    "Especificando o tamanho da amostra através do percentual."
   ]
  },
  {
   "cell_type": "code",
   "execution_count": 8,
   "metadata": {
    "colab": {},
    "colab_type": "code",
    "id": "v10yzQ62myO3"
   },
   "outputs": [],
   "source": [
    "df_sample = df.sample(frac=0.10)"
   ]
  },
  {
   "cell_type": "code",
   "execution_count": 9,
   "metadata": {
    "colab": {},
    "colab_type": "code",
    "id": "b3yIx8F4nLZB"
   },
   "outputs": [
    {
     "name": "stdout",
     "output_type": "stream",
     "text": [
      "<class 'pandas.core.frame.DataFrame'>\n",
      "Int64Index: 5098 entries, 50014 to 39257\n",
      "Data columns (total 12 columns):\n",
      " #   Column              Non-Null Count  Dtype  \n",
      "---  ------              --------------  -----  \n",
      " 0   case_id             0 non-null      float64\n",
      " 1   provincial_case_id  5098 non-null   int64  \n",
      " 2   age                 5098 non-null   object \n",
      " 3   sex                 5098 non-null   object \n",
      " 4   health_region       5098 non-null   object \n",
      " 5   province            5098 non-null   object \n",
      " 6   country             5098 non-null   object \n",
      " 7   date_report         5098 non-null   object \n",
      " 8   report_week         5098 non-null   object \n",
      " 9   has_travel_history  122 non-null    object \n",
      " 10  locally_acquired    63 non-null     object \n",
      " 11  case_source         5098 non-null   object \n",
      "dtypes: float64(1), int64(1), object(10)\n",
      "memory usage: 517.8+ KB\n"
     ]
    }
   ],
   "source": [
    "df_sample.info()"
   ]
  },
  {
   "cell_type": "markdown",
   "metadata": {
    "colab_type": "text",
    "id": "q8mlpPNlnyKH"
   },
   "source": [
    "### Amostragem Aleatória Estratificada"
   ]
  },
  {
   "cell_type": "markdown",
   "metadata": {
    "colab_type": "text",
    "id": "Cz01uin0kglN"
   },
   "source": [
    "Importando o método train_test_split para fazer a amostragem."
   ]
  },
  {
   "cell_type": "code",
   "execution_count": 13,
   "metadata": {
    "colab": {},
    "colab_type": "code",
    "id": "amb4n4-QnNkm"
   },
   "outputs": [],
   "source": [
    "from sklearn.model_selection import train_test_split"
   ]
  },
  {
   "cell_type": "markdown",
   "metadata": {
    "colab_type": "text",
    "id": "AV5QAucKkp1E"
   },
   "source": [
    "Contagem de registro."
   ]
  },
  {
   "cell_type": "code",
   "execution_count": 14,
   "metadata": {
    "colab": {},
    "colab_type": "code",
    "id": "Ok5wDONA0-0j"
   },
   "outputs": [
    {
     "data": {
      "text/plain": [
       "Quebec           25757\n",
       "Ontario          16337\n",
       "Alberta           4850\n",
       "BC                2053\n",
       "Nova Scotia        915\n",
       "Saskatchewan       366\n",
       "Manitoba           272\n",
       "NL                 258\n",
       "New Brunswick      118\n",
       "PEI                 27\n",
       "Repatriated         13\n",
       "Yukon               11\n",
       "NWT                  5\n",
       "Name: province, dtype: int64"
      ]
     },
     "execution_count": 14,
     "metadata": {},
     "output_type": "execute_result"
    }
   ],
   "source": [
    "df['province'].value_counts()"
   ]
  },
  {
   "cell_type": "markdown",
   "metadata": {
    "colab_type": "text",
    "id": "WHXV3ALwkwfL"
   },
   "source": [
    "Gerando a amostragem estratificada."
   ]
  },
  {
   "cell_type": "code",
   "execution_count": 15,
   "metadata": {
    "colab": {},
    "colab_type": "code",
    "id": "XGn5usALoUyQ"
   },
   "outputs": [],
   "source": [
    "X_train, X_test, y_train, y_test = train_test_split(df.drop('province',axis=1),\n",
    "                                                    df['province'],\n",
    "                                                    stratify=df['province'],\n",
    "                                                    test_size=0.20)"
   ]
  },
  {
   "cell_type": "markdown",
   "metadata": {
    "colab_type": "text",
    "id": "_EDqMJx2lOfO"
   },
   "source": [
    "Verificando a forma dos dados."
   ]
  },
  {
   "cell_type": "code",
   "execution_count": 36,
   "metadata": {},
   "outputs": [
    {
     "data": {
      "text/plain": [
       "Not Reported    39609\n",
       "50-59             231\n",
       "60-69             206\n",
       "40-49             177\n",
       "30-39             175\n",
       "20-29             158\n",
       "70-79             112\n",
       "80-89              48\n",
       "90-99              24\n",
       "<20                18\n",
       "<10                10\n",
       "10-19               9\n",
       "<18                 5\n",
       "61                  1\n",
       "<1                  1\n",
       "2                   1\n",
       "Name: age, dtype: int64"
      ]
     },
     "execution_count": 36,
     "metadata": {},
     "output_type": "execute_result"
    }
   ],
   "source": [
    "X_train['age'].value_counts()\n",
    "# X_test['age'].value_counts()\n",
    "# df1 = df['age'].value_counts()"
   ]
  },
  {
   "cell_type": "code",
   "execution_count": 0,
   "metadata": {
    "colab": {},
    "colab_type": "code",
    "id": "dpNu_ePpo-X-"
   },
   "outputs": [],
   "source": [
    "y_test.shape"
   ]
  },
  {
   "cell_type": "markdown",
   "metadata": {
    "colab_type": "text",
    "id": "qvX0d8bWlRE0"
   },
   "source": [
    "Verificando a contagem de registros."
   ]
  },
  {
   "cell_type": "code",
   "execution_count": 0,
   "metadata": {
    "colab": {},
    "colab_type": "code",
    "id": "WFqfcsEBpH9P"
   },
   "outputs": [],
   "source": [
    "y_test.value_counts()"
   ]
  },
  {
   "cell_type": "markdown",
   "metadata": {
    "colab_type": "text",
    "id": "HZET77MBrDel"
   },
   "source": [
    "### Amostragem Sistemática"
   ]
  },
  {
   "cell_type": "markdown",
   "metadata": {
    "colab_type": "text",
    "id": "sVwNulpA1LDC"
   },
   "source": [
    "Gerando a semente aleatória"
   ]
  },
  {
   "cell_type": "code",
   "execution_count": 0,
   "metadata": {
    "colab": {},
    "colab_type": "code",
    "id": "abH5IjjqYv1K"
   },
   "outputs": [],
   "source": [
    "import numpy as np"
   ]
  },
  {
   "cell_type": "code",
   "execution_count": 0,
   "metadata": {
    "colab": {},
    "colab_type": "code",
    "id": "REDl5D35rKOD"
   },
   "outputs": [],
   "source": [
    "semente = np.random.choice(10, 1)"
   ]
  },
  {
   "cell_type": "code",
   "execution_count": 0,
   "metadata": {
    "colab": {},
    "colab_type": "code",
    "id": "arKzYpmVu-dH"
   },
   "outputs": [],
   "source": [
    "semente"
   ]
  },
  {
   "cell_type": "markdown",
   "metadata": {
    "colab_type": "text",
    "id": "SODPWATH1RAi"
   },
   "source": [
    "Gerando índices a partir da semente."
   ]
  },
  {
   "cell_type": "code",
   "execution_count": 0,
   "metadata": {
    "colab": {},
    "colab_type": "code",
    "id": "MJ6amAD5twXb"
   },
   "outputs": [],
   "source": [
    "indices = np.arange(0,100,semente)"
   ]
  },
  {
   "cell_type": "code",
   "execution_count": 0,
   "metadata": {
    "colab": {},
    "colab_type": "code",
    "id": "RNbqVkWwurcd"
   },
   "outputs": [],
   "source": [
    "indices"
   ]
  },
  {
   "cell_type": "markdown",
   "metadata": {
    "colab_type": "text",
    "id": "urBtlDic1zHp"
   },
   "source": [
    "Gerando a amostra a partir dos índices."
   ]
  },
  {
   "cell_type": "code",
   "execution_count": 0,
   "metadata": {
    "colab": {},
    "colab_type": "code",
    "id": "6o-8NkAxvFm-"
   },
   "outputs": [],
   "source": [
    "amostra = df.loc[indices,:]"
   ]
  },
  {
   "cell_type": "markdown",
   "metadata": {
    "colab_type": "text",
    "id": "b897rARNxxNy"
   },
   "source": [
    "Verificando os dados da amostra."
   ]
  },
  {
   "cell_type": "code",
   "execution_count": 0,
   "metadata": {
    "colab": {},
    "colab_type": "code",
    "id": "SOfeexNVvOdv"
   },
   "outputs": [],
   "source": [
    "amostra"
   ]
  },
  {
   "cell_type": "markdown",
   "metadata": {
    "colab_type": "text",
    "id": "rUk2j6CdyDz4"
   },
   "source": [
    "Contagem de registros."
   ]
  },
  {
   "cell_type": "code",
   "execution_count": 0,
   "metadata": {
    "colab": {},
    "colab_type": "code",
    "id": "ux5w4Nc_fAMM"
   },
   "outputs": [],
   "source": [
    "amostra.info()"
   ]
  }
 ],
 "metadata": {
  "colab": {
   "collapsed_sections": [],
   "name": "Técnicas-Amostragem-Dados-Python.ipynb",
   "provenance": []
  },
  "kernelspec": {
   "display_name": "Python 3",
   "language": "python",
   "name": "python3"
  },
  "language_info": {
   "codemirror_mode": {
    "name": "ipython",
    "version": 3
   },
   "file_extension": ".py",
   "mimetype": "text/x-python",
   "name": "python",
   "nbconvert_exporter": "python",
   "pygments_lexer": "ipython3",
   "version": "3.8.5"
  }
 },
 "nbformat": 4,
 "nbformat_minor": 1
}
